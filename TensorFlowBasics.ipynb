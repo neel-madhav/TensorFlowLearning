{
  "nbformat": 4,
  "nbformat_minor": 0,
  "metadata": {
    "colab": {
      "provenance": [],
      "authorship_tag": "ABX9TyNz1SSiSjSZ5H+aHGOp7ePC",
      "include_colab_link": true
    },
    "kernelspec": {
      "name": "python3",
      "display_name": "Python 3"
    },
    "language_info": {
      "name": "python"
    }
  },
  "cells": [
    {
      "cell_type": "markdown",
      "metadata": {
        "id": "view-in-github",
        "colab_type": "text"
      },
      "source": [
        "<a href=\"https://colab.research.google.com/github/neel-madhav/TensorFlowLearning/blob/main/TensorFlowBasics.ipynb\" target=\"_parent\"><img src=\"https://colab.research.google.com/assets/colab-badge.svg\" alt=\"Open In Colab\"/></a>"
      ]
    },
    {
      "cell_type": "code",
      "execution_count": 1,
      "metadata": {
        "id": "DFLLlcZSTLir"
      },
      "outputs": [],
      "source": [
        "import tensorflow as tf"
      ]
    },
    {
      "cell_type": "markdown",
      "source": [
        "#Tensor Initialization"
      ],
      "metadata": {
        "id": "yIdy2nuo3luj"
      }
    },
    {
      "cell_type": "code",
      "source": [
        "tensor_0D = tf.constant(4)\n",
        "print(tensor_0D)"
      ],
      "metadata": {
        "colab": {
          "base_uri": "https://localhost:8080/"
        },
        "id": "Y3dhXiLzTaDu",
        "outputId": "4741a812-156b-405a-c9d6-d1ea8fbe5003"
      },
      "execution_count": 2,
      "outputs": [
        {
          "output_type": "stream",
          "name": "stdout",
          "text": [
            "tf.Tensor(4, shape=(), dtype=int32)\n"
          ]
        }
      ]
    },
    {
      "cell_type": "code",
      "source": [
        "tensor_1D = tf.constant([2, 0, -3])\n",
        "print(tensor_1D)"
      ],
      "metadata": {
        "colab": {
          "base_uri": "https://localhost:8080/"
        },
        "id": "Z_h8HV07UPe3",
        "outputId": "797272a2-5c89-48ad-fb4a-a305dad40034"
      },
      "execution_count": 3,
      "outputs": [
        {
          "output_type": "stream",
          "name": "stdout",
          "text": [
            "tf.Tensor([ 2  0 -3], shape=(3,), dtype=int32)\n"
          ]
        }
      ]
    },
    {
      "cell_type": "code",
      "source": [
        "tensor_2D = tf.constant([[1, 2, 0], [0, 2, -2]])\n",
        "print(tensor_2D)"
      ],
      "metadata": {
        "colab": {
          "base_uri": "https://localhost:8080/"
        },
        "id": "JzF5m8qFUlfg",
        "outputId": "0cd9d1ee-ac6c-4409-a144-6e4b31d777ec"
      },
      "execution_count": 4,
      "outputs": [
        {
          "output_type": "stream",
          "name": "stdout",
          "text": [
            "tf.Tensor(\n",
            "[[ 1  2  0]\n",
            " [ 0  2 -2]], shape=(2, 3), dtype=int32)\n"
          ]
        }
      ]
    },
    {
      "cell_type": "code",
      "source": [
        "tensor_3D = tf.constant([[[1,2,0], [3,4,5]], [[5,8,0],[2,7,0]], [[10, 2, 0], [1, 0, 2]], [[1,3,0], [3,5,-1]]] , dtype=tf.float32)\n",
        "print(tensor_3D)"
      ],
      "metadata": {
        "colab": {
          "base_uri": "https://localhost:8080/"
        },
        "id": "VNaLyMbeU1Fb",
        "outputId": "7be6f375-7745-4475-910a-495b6240d244"
      },
      "execution_count": 7,
      "outputs": [
        {
          "output_type": "stream",
          "name": "stdout",
          "text": [
            "tf.Tensor(\n",
            "[[[ 1.  2.  0.]\n",
            "  [ 3.  4.  5.]]\n",
            "\n",
            " [[ 5.  8.  0.]\n",
            "  [ 2.  7.  0.]]\n",
            "\n",
            " [[10.  2.  0.]\n",
            "  [ 1.  0.  2.]]\n",
            "\n",
            " [[ 1.  3.  0.]\n",
            "  [ 3.  5. -1.]]], shape=(4, 2, 3), dtype=float32)\n"
          ]
        }
      ]
    },
    {
      "cell_type": "code",
      "source": [
        "tensor_2D = tf.constant([[1, 2, 0], [0, 2, -2]], dtype = tf.float32)\n",
        "casted = tf.cast(tensor_2D, tf.int32)\n",
        "print(casted)\n",
        "print(tensor_2D)"
      ],
      "metadata": {
        "colab": {
          "base_uri": "https://localhost:8080/"
        },
        "id": "_up3TT4hXWCH",
        "outputId": "89b9335f-19c4-4dd7-d176-18cab32cea49"
      },
      "execution_count": 10,
      "outputs": [
        {
          "output_type": "stream",
          "name": "stdout",
          "text": [
            "tf.Tensor(\n",
            "[[ 1  2  0]\n",
            " [ 0  2 -2]], shape=(2, 3), dtype=int32)\n",
            "tf.Tensor(\n",
            "[[ 1.  2.  0.]\n",
            " [ 0.  2. -2.]], shape=(2, 3), dtype=float32)\n"
          ]
        }
      ]
    },
    {
      "cell_type": "code",
      "source": [
        "tensor_bool=([True, True, False])\n",
        "print(tensor_bool)"
      ],
      "metadata": {
        "colab": {
          "base_uri": "https://localhost:8080/"
        },
        "id": "sTksU1uRY7TQ",
        "outputId": "13f764bf-f4b1-4525-b4d8-d6e6737b7f01"
      },
      "execution_count": 11,
      "outputs": [
        {
          "output_type": "stream",
          "name": "stdout",
          "text": [
            "[True, True, False]\n"
          ]
        }
      ]
    },
    {
      "cell_type": "code",
      "source": [
        "tensor_string = tf.constant([\"hello world\", \"hi\"])\n",
        "print(tensor_string)"
      ],
      "metadata": {
        "colab": {
          "base_uri": "https://localhost:8080/"
        },
        "id": "UDRTcgkScFwv",
        "outputId": "a2abb597-95d7-4c42-b7ca-600bcaee776a"
      },
      "execution_count": 12,
      "outputs": [
        {
          "output_type": "stream",
          "name": "stdout",
          "text": [
            "tf.Tensor([b'hello world' b'hi'], shape=(2,), dtype=string)\n"
          ]
        }
      ]
    },
    {
      "cell_type": "code",
      "source": [
        "import numpy as np"
      ],
      "metadata": {
        "id": "_0UJDpu9cZNv"
      },
      "execution_count": 13,
      "outputs": []
    },
    {
      "cell_type": "code",
      "source": [
        "np_array = np.array([[1,2,3], [4,5,6]])\n",
        "print(np_array)"
      ],
      "metadata": {
        "colab": {
          "base_uri": "https://localhost:8080/"
        },
        "id": "T7ANUW29cbMT",
        "outputId": "fdfee05e-b6bc-47d0-a1c1-057d53de0b6a"
      },
      "execution_count": 14,
      "outputs": [
        {
          "output_type": "stream",
          "name": "stdout",
          "text": [
            "[[1 2 3]\n",
            " [4 5 6]]\n"
          ]
        }
      ]
    },
    {
      "cell_type": "code",
      "source": [
        "converted = tf.convert_to_tensor(np_array)\n",
        "print(converted)"
      ],
      "metadata": {
        "colab": {
          "base_uri": "https://localhost:8080/"
        },
        "id": "V_FnMmtAckQA",
        "outputId": "a4148d78-cf77-460d-e6fd-c90d5d1b7366"
      },
      "execution_count": 15,
      "outputs": [
        {
          "output_type": "stream",
          "name": "stdout",
          "text": [
            "tf.Tensor(\n",
            "[[1 2 3]\n",
            " [4 5 6]], shape=(2, 3), dtype=int64)\n"
          ]
        }
      ]
    },
    {
      "cell_type": "code",
      "source": [
        "eye_tensor = tf.eye(num_rows = 3, num_columns = None, batch_shape = None, name = None, dtype=tf.dtypes.float32)\n",
        "print(eye_tensor)"
      ],
      "metadata": {
        "colab": {
          "base_uri": "https://localhost:8080/"
        },
        "id": "0ID2MEU7dJ70",
        "outputId": "6724fbb1-8931-4bcc-91c5-0a11407f730a"
      },
      "execution_count": 16,
      "outputs": [
        {
          "output_type": "stream",
          "name": "stdout",
          "text": [
            "tf.Tensor(\n",
            "[[1. 0. 0.]\n",
            " [0. 1. 0.]\n",
            " [0. 0. 1.]], shape=(3, 3), dtype=float32)\n"
          ]
        }
      ]
    },
    {
      "cell_type": "code",
      "source": [
        "eye_tensor = tf.eye(num_rows = 5, num_columns = 3, batch_shape = None, name = None, dtype=tf.dtypes.float32)\n",
        "print(eye_tensor)"
      ],
      "metadata": {
        "colab": {
          "base_uri": "https://localhost:8080/"
        },
        "id": "QaXKe1IUfDCD",
        "outputId": "4765ef05-564d-4e90-85d8-4850c1a93f06"
      },
      "execution_count": 17,
      "outputs": [
        {
          "output_type": "stream",
          "name": "stdout",
          "text": [
            "tf.Tensor(\n",
            "[[1. 0. 0.]\n",
            " [0. 1. 0.]\n",
            " [0. 0. 1.]\n",
            " [0. 0. 0.]\n",
            " [0. 0. 0.]], shape=(5, 3), dtype=float32)\n"
          ]
        }
      ]
    },
    {
      "cell_type": "code",
      "source": [
        "eye_tensor = tf.eye(num_rows = 3, num_columns = None, batch_shape = [2], name = None, dtype=tf.dtypes.float32)\n",
        "print(eye_tensor)"
      ],
      "metadata": {
        "colab": {
          "base_uri": "https://localhost:8080/"
        },
        "id": "Hu9QF90EfG8m",
        "outputId": "730f80b3-6fff-43ea-ac2b-8980d111ab75"
      },
      "execution_count": 20,
      "outputs": [
        {
          "output_type": "stream",
          "name": "stdout",
          "text": [
            "tf.Tensor(\n",
            "[[[1. 0. 0.]\n",
            "  [0. 1. 0.]\n",
            "  [0. 0. 1.]]\n",
            "\n",
            " [[1. 0. 0.]\n",
            "  [0. 1. 0.]\n",
            "  [0. 0. 1.]]], shape=(2, 3, 3), dtype=float32)\n"
          ]
        }
      ]
    },
    {
      "cell_type": "code",
      "source": [
        "fill_tensor = tf.fill([2,3,4], 5, name = None)\n",
        "print(fill_tensor)"
      ],
      "metadata": {
        "colab": {
          "base_uri": "https://localhost:8080/"
        },
        "id": "ZpiyEG-LfVIg",
        "outputId": "5893fc21-ab81-4284-db04-6ed8550ac05a"
      },
      "execution_count": 23,
      "outputs": [
        {
          "output_type": "stream",
          "name": "stdout",
          "text": [
            "tf.Tensor(\n",
            "[[[5 5 5 5]\n",
            "  [5 5 5 5]\n",
            "  [5 5 5 5]]\n",
            "\n",
            " [[5 5 5 5]\n",
            "  [5 5 5 5]\n",
            "  [5 5 5 5]]], shape=(2, 3, 4), dtype=int32)\n"
          ]
        }
      ]
    },
    {
      "cell_type": "code",
      "source": [
        "fill_ones = tf.ones([3,4], dtype=tf.dtypes.float32, name = None)\n",
        "print(fill_ones)"
      ],
      "metadata": {
        "colab": {
          "base_uri": "https://localhost:8080/"
        },
        "id": "oR9wmASEjrOs",
        "outputId": "6a27fb82-eb26-4327-a96a-fe1cee8503a0"
      },
      "execution_count": 27,
      "outputs": [
        {
          "output_type": "stream",
          "name": "stdout",
          "text": [
            "tf.Tensor(\n",
            "[[1. 1. 1. 1.]\n",
            " [1. 1. 1. 1.]\n",
            " [1. 1. 1. 1.]], shape=(3, 4), dtype=float32)\n"
          ]
        }
      ]
    },
    {
      "cell_type": "code",
      "source": [
        "ones_like_tensor = tf.ones_like(fill_ones)\n",
        "print(ones_like_tensor)"
      ],
      "metadata": {
        "colab": {
          "base_uri": "https://localhost:8080/"
        },
        "id": "0oEwVjxBkvTP",
        "outputId": "854415c1-e550-4515-bc74-8550ed2e3e4e"
      },
      "execution_count": 28,
      "outputs": [
        {
          "output_type": "stream",
          "name": "stdout",
          "text": [
            "tf.Tensor(\n",
            "[[1. 1. 1. 1.]\n",
            " [1. 1. 1. 1.]\n",
            " [1. 1. 1. 1.]], shape=(3, 4), dtype=float32)\n"
          ]
        }
      ]
    },
    {
      "cell_type": "code",
      "source": [
        "fill_zeroes = tf.zeros([3,4], dtype=tf.dtypes.float32, name = None)\n",
        "print(fill_zeroes)"
      ],
      "metadata": {
        "colab": {
          "base_uri": "https://localhost:8080/"
        },
        "id": "_geYZf_ylQOA",
        "outputId": "1ddb1657-439a-4e44-d256-b06c2e29799a"
      },
      "execution_count": 31,
      "outputs": [
        {
          "output_type": "stream",
          "name": "stdout",
          "text": [
            "tf.Tensor(\n",
            "[[0. 0. 0. 0.]\n",
            " [0. 0. 0. 0.]\n",
            " [0. 0. 0. 0.]], shape=(3, 4), dtype=float32)\n"
          ]
        }
      ]
    },
    {
      "cell_type": "code",
      "source": [
        "print(tf.shape(fill_zeroes))"
      ],
      "metadata": {
        "colab": {
          "base_uri": "https://localhost:8080/"
        },
        "id": "EMt5LKr6lrQw",
        "outputId": "85dcb0ae-6da4-42d1-e0eb-2736d5b51abc"
      },
      "execution_count": 32,
      "outputs": [
        {
          "output_type": "stream",
          "name": "stdout",
          "text": [
            "tf.Tensor([3 4], shape=(2,), dtype=int32)\n"
          ]
        }
      ]
    },
    {
      "cell_type": "code",
      "source": [
        "t = tf.constant([[[1,2,0], [3,4,5]], [[5,8,0],[2,7,0]], [[10, 2, 0], [1, 0, 2]], [[1,3,0], [3,5,-1]]] , dtype=tf.float32)\n",
        "print(tf.rank(t))\n",
        "print(tf.size(t))"
      ],
      "metadata": {
        "colab": {
          "base_uri": "https://localhost:8080/"
        },
        "id": "PAWiB0ItmCSm",
        "outputId": "26f60abe-9b2a-4515-b5ca-77702af4cbc0"
      },
      "execution_count": 34,
      "outputs": [
        {
          "output_type": "stream",
          "name": "stdout",
          "text": [
            "tf.Tensor(3, shape=(), dtype=int32)\n",
            "tf.Tensor(24, shape=(), dtype=int32)\n"
          ]
        }
      ]
    },
    {
      "cell_type": "code",
      "source": [
        "random_tensor = tf.random.normal([3,2], mean = 0.0, stddev = 1.0, dtype = tf.dtypes.float32, seed = None, name = None)\n",
        "print(random_tensor)"
      ],
      "metadata": {
        "colab": {
          "base_uri": "https://localhost:8080/"
        },
        "id": "eIlmLzvtnihi",
        "outputId": "77473c15-7ece-4e62-e493-0fd4f46eb8d5"
      },
      "execution_count": 36,
      "outputs": [
        {
          "output_type": "stream",
          "name": "stdout",
          "text": [
            "tf.Tensor(\n",
            "[[-1.6913795  -2.9419827 ]\n",
            " [-0.9075992   0.55288994]\n",
            " [-2.7123554   0.59127647]], shape=(3, 2), dtype=float32)\n"
          ]
        }
      ]
    },
    {
      "cell_type": "code",
      "source": [
        "random_tensor = tf.random.uniform([3,2], minval = 0, maxval = 100, dtype = tf.dtypes.float32, seed = None, name = None)\n",
        "print(random_tensor)"
      ],
      "metadata": {
        "colab": {
          "base_uri": "https://localhost:8080/"
        },
        "id": "y3QfTF_HoNst",
        "outputId": "474926fb-6bf0-4b60-fa2c-47a5b3336223"
      },
      "execution_count": 38,
      "outputs": [
        {
          "output_type": "stream",
          "name": "stdout",
          "text": [
            "tf.Tensor(\n",
            "[[88.19263  36.897133]\n",
            " [73.42803  84.84974 ]\n",
            " [74.05069  82.49456 ]], shape=(3, 2), dtype=float32)\n"
          ]
        }
      ]
    },
    {
      "cell_type": "code",
      "source": [
        "tf.random.set_seed(5)\n",
        "print(tf.random.uniform([2,3], minval = 0, maxval = 3, dtype = tf.dtypes.int32, seed = 1, name = None))\n"
      ],
      "metadata": {
        "colab": {
          "base_uri": "https://localhost:8080/"
        },
        "id": "01weq2iKv4y5",
        "outputId": "219ef75a-f2ea-41b4-b2df-c4623d5f8dc7"
      },
      "execution_count": 46,
      "outputs": [
        {
          "output_type": "stream",
          "name": "stdout",
          "text": [
            "tf.Tensor(\n",
            "[[0 1 2]\n",
            " [1 1 1]], shape=(2, 3), dtype=int32)\n"
          ]
        }
      ]
    },
    {
      "cell_type": "code",
      "source": [
        "tf.random.set_seed(5)\n",
        "print(tf.random.uniform([2,3], minval = 0, maxval = 3, dtype = tf.dtypes.int32, seed = 10, name = None))\n"
      ],
      "metadata": {
        "colab": {
          "base_uri": "https://localhost:8080/"
        },
        "id": "B0tsvHszw1IZ",
        "outputId": "dae5f182-82c0-465b-e7fb-5b7b15bce241"
      },
      "execution_count": 49,
      "outputs": [
        {
          "output_type": "stream",
          "name": "stdout",
          "text": [
            "tf.Tensor(\n",
            "[[2 0 1]\n",
            " [2 1 1]], shape=(2, 3), dtype=int32)\n"
          ]
        }
      ]
    },
    {
      "cell_type": "code",
      "source": [
        "\n",
        "print(tf.random.uniform([2,3], minval = 0, maxval = 3, dtype = tf.dtypes.int32, seed = 1, name = None))\n"
      ],
      "metadata": {
        "colab": {
          "base_uri": "https://localhost:8080/"
        },
        "id": "p6sMpeJxw3XZ",
        "outputId": "efee1427-915e-494d-f6f9-7ca651d88344"
      },
      "execution_count": 52,
      "outputs": [
        {
          "output_type": "stream",
          "name": "stdout",
          "text": [
            "tf.Tensor(\n",
            "[[1 0 1]\n",
            " [2 1 0]], shape=(2, 3), dtype=int32)\n"
          ]
        }
      ]
    },
    {
      "cell_type": "markdown",
      "source": [
        "#Indexing"
      ],
      "metadata": {
        "id": "iN44HH8K2jyw"
      }
    },
    {
      "cell_type": "code",
      "source": [
        "index = tf.constant([1,2,3,4,5,6,7,8,9,0])\n",
        "print(index[0])\n",
        "print(index[-1])\n",
        "print(index[1:6])\n",
        "print(index[:6])\n",
        "print(index[1:])\n",
        "print(index[2:-1])\n",
        "print(index[5:-2])\n",
        "print(index[:10:2])\n"
      ],
      "metadata": {
        "colab": {
          "base_uri": "https://localhost:8080/"
        },
        "id": "5nTZILYH15px",
        "outputId": "5170aa59-014b-4536-a0d3-d0891fda1b6c"
      },
      "execution_count": 62,
      "outputs": [
        {
          "output_type": "stream",
          "name": "stdout",
          "text": [
            "tf.Tensor(1, shape=(), dtype=int32)\n",
            "tf.Tensor(0, shape=(), dtype=int32)\n",
            "tf.Tensor([2 3 4 5 6], shape=(5,), dtype=int32)\n",
            "tf.Tensor([1 2 3 4 5 6], shape=(6,), dtype=int32)\n",
            "tf.Tensor([2 3 4 5 6 7 8 9 0], shape=(9,), dtype=int32)\n",
            "tf.Tensor([3 4 5 6 7 8 9], shape=(7,), dtype=int32)\n",
            "tf.Tensor([6 7 8], shape=(3,), dtype=int32)\n",
            "tf.Tensor([1 3 5 7 9], shape=(5,), dtype=int32)\n"
          ]
        }
      ]
    },
    {
      "cell_type": "code",
      "source": [
        "index2D = tf.constant([[1,2,3], [4,5,6],[7,8,9]])\n",
        "print(index2D[1,2])\n",
        "print(index2D[1,:])\n",
        "print(index2D[0,:])\n",
        "print(index2D[0:1,:])"
      ],
      "metadata": {
        "colab": {
          "base_uri": "https://localhost:8080/"
        },
        "id": "8ivbdI0p3qwy",
        "outputId": "da179dc0-60b3-4cee-cb3c-fe5a6d9c6efc"
      },
      "execution_count": 69,
      "outputs": [
        {
          "output_type": "stream",
          "name": "stdout",
          "text": [
            "tf.Tensor(6, shape=(), dtype=int32)\n",
            "tf.Tensor([4 5 6], shape=(3,), dtype=int32)\n",
            "tf.Tensor([1 2 3], shape=(3,), dtype=int32)\n",
            "tf.Tensor([[1 2 3]], shape=(1, 3), dtype=int32)\n"
          ]
        }
      ]
    },
    {
      "cell_type": "markdown",
      "source": [
        "#Math Operation"
      ],
      "metadata": {
        "id": "GvSnkJky9rXe"
      }
    },
    {
      "cell_type": "code",
      "source": [
        "x = tf.constant(-0.2)\n",
        "print(tf.abs(x))"
      ],
      "metadata": {
        "colab": {
          "base_uri": "https://localhost:8080/"
        },
        "id": "r0ZihUS19txo",
        "outputId": "1723976b-88b3-4dac-f366-fdb92d22956e"
      },
      "execution_count": 71,
      "outputs": [
        {
          "output_type": "stream",
          "name": "stdout",
          "text": [
            "tf.Tensor(0.2, shape=(), dtype=float32)\n"
          ]
        }
      ]
    },
    {
      "cell_type": "code",
      "source": [
        "y = tf.constant([[1,-2.0, 4, -3,7], [-7, 8, -3.46, -9, 5]])\n",
        "print(tf.abs(y))"
      ],
      "metadata": {
        "colab": {
          "base_uri": "https://localhost:8080/"
        },
        "id": "hf6Ly7fF-MWq",
        "outputId": "957b3312-7db4-4541-aaa7-f880a4cbcec0"
      },
      "execution_count": 72,
      "outputs": [
        {
          "output_type": "stream",
          "name": "stdout",
          "text": [
            "tf.Tensor(\n",
            "[[1.   2.   4.   3.   7.  ]\n",
            " [7.   8.   3.46 9.   5.  ]], shape=(2, 5), dtype=float32)\n"
          ]
        }
      ]
    },
    {
      "cell_type": "code",
      "source": [
        "z = tf.constant([3-5j, 4+2j, 7+8j, -9+10j])\n",
        "print(tf.abs(z))"
      ],
      "metadata": {
        "colab": {
          "base_uri": "https://localhost:8080/"
        },
        "id": "Lx9-2OOSKJ8N",
        "outputId": "ccb6aa9f-caae-4e59-cb67-abc7991279ef"
      },
      "execution_count": 73,
      "outputs": [
        {
          "output_type": "stream",
          "name": "stdout",
          "text": [
            "tf.Tensor([ 5.83095189  4.47213595 10.63014581 13.45362405], shape=(4,), dtype=float64)\n"
          ]
        }
      ]
    },
    {
      "cell_type": "code",
      "source": [
        "print(tf.sqrt(3.**2+5.**2))"
      ],
      "metadata": {
        "colab": {
          "base_uri": "https://localhost:8080/"
        },
        "id": "AnLc3RAbLCZD",
        "outputId": "9b2a55b2-99f5-419c-a819-649b06758b2e"
      },
      "execution_count": 78,
      "outputs": [
        {
          "output_type": "stream",
          "name": "stdout",
          "text": [
            "tf.Tensor(5.8309517, shape=(), dtype=float32)\n"
          ]
        }
      ]
    },
    {
      "cell_type": "code",
      "source": [
        "x = tf.constant([1,2,3,4,5])\n",
        "y = tf.constant([6,7,8,9,0])\n",
        "tf.add(x,y)"
      ],
      "metadata": {
        "colab": {
          "base_uri": "https://localhost:8080/"
        },
        "id": "vBcPCLSjLjar",
        "outputId": "9974a00a-3c94-43b0-bac1-f101b3e73545"
      },
      "execution_count": 80,
      "outputs": [
        {
          "output_type": "execute_result",
          "data": {
            "text/plain": [
              "<tf.Tensor: shape=(5,), dtype=int32, numpy=array([ 7,  9, 11, 13,  5], dtype=int32)>"
            ]
          },
          "metadata": {},
          "execution_count": 80
        }
      ]
    },
    {
      "cell_type": "code",
      "source": [
        "x = tf.constant(10)\n",
        "y = tf.constant(0)\n",
        "print(tf.divide(x,y))\n",
        "print(tf.math.divide(x,y))\n",
        "print(tf.math.divide_no_nan(x,y))"
      ],
      "metadata": {
        "colab": {
          "base_uri": "https://localhost:8080/"
        },
        "id": "n4koYjG5MQov",
        "outputId": "bcc4d292-73ae-49f7-85da-39b3b1fd8815"
      },
      "execution_count": 84,
      "outputs": [
        {
          "output_type": "stream",
          "name": "stdout",
          "text": [
            "tf.Tensor(inf, shape=(), dtype=float64)\n",
            "tf.Tensor(inf, shape=(), dtype=float64)\n",
            "tf.Tensor(0.0, shape=(), dtype=float64)\n"
          ]
        }
      ]
    },
    {
      "cell_type": "code",
      "source": [
        "x = tf.constant([[1,2,3],[3,4,5],[7,8,9]])\n",
        "y = tf.constant([[1],[2],[3]])\n",
        "print(tf.multiply(y,x))"
      ],
      "metadata": {
        "colab": {
          "base_uri": "https://localhost:8080/"
        },
        "id": "8NUXiB8hOOxd",
        "outputId": "c18423ea-39ae-4506-9a5a-1b96b902ee1c"
      },
      "execution_count": 88,
      "outputs": [
        {
          "output_type": "stream",
          "name": "stdout",
          "text": [
            "tf.Tensor(\n",
            "[[ 1  2  3]\n",
            " [ 6  8 10]\n",
            " [21 24 27]], shape=(3, 3), dtype=int32)\n"
          ]
        }
      ]
    },
    {
      "cell_type": "code",
      "source": [
        "x = tf.constant([[1,8,3],[7,4,5],[2,3,9]])\n",
        "print(tf.argmax(x))"
      ],
      "metadata": {
        "colab": {
          "base_uri": "https://localhost:8080/"
        },
        "id": "jy9T5IsfPwyz",
        "outputId": "8c6edd59-3286-42ec-f68f-188a368122a7"
      },
      "execution_count": 90,
      "outputs": [
        {
          "output_type": "stream",
          "name": "stdout",
          "text": [
            "tf.Tensor([1 0 2], shape=(3,), dtype=int64)\n"
          ]
        }
      ]
    },
    {
      "cell_type": "code",
      "source": [
        "x = tf.constant([[1,8,3],[7,4,5],[2,3,9]])\n",
        "y = tf.constant([[1,8,2],[7,8,5],[2,10,9]])\n",
        "print(tf.math.equal(x, y))"
      ],
      "metadata": {
        "colab": {
          "base_uri": "https://localhost:8080/"
        },
        "id": "0vlxeIB0RAZJ",
        "outputId": "9cea976a-4ae6-4edc-dd37-8486ca124550"
      },
      "execution_count": 93,
      "outputs": [
        {
          "output_type": "stream",
          "name": "stdout",
          "text": [
            "tf.Tensor(\n",
            "[[ True  True False]\n",
            " [ True False  True]\n",
            " [ True False  True]], shape=(3, 3), dtype=bool)\n"
          ]
        }
      ]
    },
    {
      "cell_type": "code",
      "source": [
        "print(tf.math.reduce_max(x))\n",
        "print(tf.math.reduce_sum(x))\n",
        "print(tf.math.reduce_sum(x, axis = None, keepdims = True))\n",
        "print(tf.math.reduce_sum(x, axis = None, keepdims = False))"
      ],
      "metadata": {
        "colab": {
          "base_uri": "https://localhost:8080/"
        },
        "id": "lJvEamKTXBWq",
        "outputId": "e285a874-45a9-4101-b638-c1ddff3604b0"
      },
      "execution_count": 100,
      "outputs": [
        {
          "output_type": "stream",
          "name": "stdout",
          "text": [
            "tf.Tensor(9, shape=(), dtype=int32)\n",
            "tf.Tensor(42, shape=(), dtype=int32)\n",
            "tf.Tensor([[42]], shape=(1, 1), dtype=int32)\n",
            "tf.Tensor(42, shape=(), dtype=int32)\n"
          ]
        }
      ]
    },
    {
      "cell_type": "code",
      "source": [
        "print(tf.math.top_k([1,2,3,4,5,6,7,8,9], k = 3\n",
        "                    ))"
      ],
      "metadata": {
        "colab": {
          "base_uri": "https://localhost:8080/"
        },
        "id": "FYpVk7GbXzga",
        "outputId": "672a5709-1a42-4e79-9782-3ff7a70d589a"
      },
      "execution_count": 102,
      "outputs": [
        {
          "output_type": "stream",
          "name": "stdout",
          "text": [
            "TopKV2(values=<tf.Tensor: shape=(3,), dtype=int32, numpy=array([9, 8, 7], dtype=int32)>, indices=<tf.Tensor: shape=(3,), dtype=int32, numpy=array([8, 7, 6], dtype=int32)>)\n"
          ]
        }
      ]
    },
    {
      "cell_type": "code",
      "source": [
        "x=tf.constant([1,2.0,3,4,5,6,7,8,9,0])\n",
        "tf.math.sigmoid(x)"
      ],
      "metadata": {
        "colab": {
          "base_uri": "https://localhost:8080/"
        },
        "id": "NduA_qHPc6P5",
        "outputId": "a7aa647b-954d-4e0b-ace4-90d7ee095529"
      },
      "execution_count": 104,
      "outputs": [
        {
          "output_type": "execute_result",
          "data": {
            "text/plain": [
              "<tf.Tensor: shape=(10,), dtype=float32, numpy=\n",
              "array([0.73105854, 0.8807971 , 0.95257413, 0.98201376, 0.9933072 ,\n",
              "       0.99752736, 0.99908894, 0.99966466, 0.9998766 , 0.5       ],\n",
              "      dtype=float32)>"
            ]
          },
          "metadata": {},
          "execution_count": 104
        }
      ]
    },
    {
      "cell_type": "markdown",
      "source": [
        "#Linear Algebra\n"
      ],
      "metadata": {
        "id": "dtoiw7m9dm-6"
      }
    },
    {
      "cell_type": "code",
      "source": [
        "a = tf.constant([[1,2], [3,4]])\n",
        "b = tf.constant([[1,3],[2,4]])\n",
        "print(tf.linalg.matmul(a,b))"
      ],
      "metadata": {
        "colab": {
          "base_uri": "https://localhost:8080/"
        },
        "id": "iNBN3mwLdql8",
        "outputId": "64fa8f7b-dba6-492b-d4aa-3f7dc8e7cdf7"
      },
      "execution_count": 112,
      "outputs": [
        {
          "output_type": "stream",
          "name": "stdout",
          "text": [
            "tf.Tensor(\n",
            "[[ 5 11]\n",
            " [11 25]], shape=(2, 2), dtype=int32)\n"
          ]
        }
      ]
    }
  ]
}